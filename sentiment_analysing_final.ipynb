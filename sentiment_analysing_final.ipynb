{
 "cells": [
  {
   "cell_type": "code",
   "execution_count": 2,
   "metadata": {},
   "outputs": [],
   "source": [
    "import numpy as np\n",
    "import pandas as pd\n",
    "import re\n",
    "import matplotlib.pyplot as plt\n",
    "import seaborn as sns\n",
    "\n",
    "from sklearn import model_selection\n",
    "from sklearn.model_selection import train_test_split\n",
    "from sklearn import metrics\n",
    "from sklearn.metrics import accuracy_score,confusion_matrix,precision_score,recall_score\n",
    "from sklearn.metrics import roc_curve\n",
    "from sklearn import ensemble\n",
    "from sklearn import linear_model\n",
    "from sklearn import tree\n",
    "from sklearn import neighbors\n",
    "from sklearn import naive_bayes\n",
    "\n",
    "#from sklearn.svm import SVC\n",
    "\n",
    "from sklearn.naive_bayes import MultinomialNB\n",
    "\n",
    "\n",
    "from sklearn.tree import DecisionTreeClassifier\n",
    "from sklearn.naive_bayes import GaussianNB\n",
    "\n",
    "import string\n",
    "from textblob import TextBlob,Word\n",
    "import nltk\n",
    "\n",
    "\n",
    "from nltk.tokenize import word_tokenize\n",
    "from nltk.corpus import words,wordnet\n",
    "from nltk.stem import WordNetLemmatizer\n",
    "\n",
    "%matplotlib inline"
   ]
  },
  {
   "cell_type": "code",
   "execution_count": 58,
   "metadata": {},
   "outputs": [],
   "source": [
    "d1 = pd.read_csv(\"files/tweet_filtered_strict_ind_bad.csv\")\n",
    "d2 = pd.read_csv(\"files/tweet_filtered_strict_full.csv\")\n",
    "data = pd.concat([d1,d2])"
   ]
  },
  {
   "cell_type": "code",
   "execution_count": 59,
   "metadata": {},
   "outputs": [
    {
     "data": {
      "text/plain": [
       "(96318, 4)"
      ]
     },
     "execution_count": 59,
     "metadata": {},
     "output_type": "execute_result"
    }
   ],
   "source": [
    "data.shape"
   ]
  },
  {
   "cell_type": "code",
   "execution_count": 60,
   "metadata": {},
   "outputs": [
    {
     "data": {
      "text/plain": [
       "Unnamed: 0        0\n",
       "tweet           996\n",
       "polarity          0\n",
       "subjectivity      0\n",
       "dtype: int64"
      ]
     },
     "execution_count": 60,
     "metadata": {},
     "output_type": "execute_result"
    }
   ],
   "source": [
    "data.isnull().sum()"
   ]
  },
  {
   "cell_type": "code",
   "execution_count": 61,
   "metadata": {},
   "outputs": [
    {
     "data": {
      "text/plain": [
       "(95322, 4)"
      ]
     },
     "execution_count": 61,
     "metadata": {},
     "output_type": "execute_result"
    }
   ],
   "source": [
    "data.dropna(inplace=True)\n",
    "data.shape"
   ]
  },
  {
   "cell_type": "code",
   "execution_count": null,
   "metadata": {},
   "outputs": [],
   "source": []
  },
  {
   "cell_type": "markdown",
   "metadata": {},
   "source": [
    " Filter sentences if it has minimum of 5 words\n",
    " \n",
    " \n",
    " "
   ]
  },
  {
   "cell_type": "code",
   "execution_count": 62,
   "metadata": {},
   "outputs": [],
   "source": [
    "data[\"filtered_sentence\"]=data.tweet.apply(lambda x: x if(len(x.split())>2) else None)"
   ]
  },
  {
   "cell_type": "code",
   "execution_count": 63,
   "metadata": {},
   "outputs": [
    {
     "data": {
      "text/plain": [
       "Unnamed: 0              0\n",
       "tweet                   0\n",
       "polarity                0\n",
       "subjectivity            0\n",
       "filtered_sentence    4529\n",
       "dtype: int64"
      ]
     },
     "execution_count": 63,
     "metadata": {},
     "output_type": "execute_result"
    }
   ],
   "source": [
    "data.isnull().sum()"
   ]
  },
  {
   "cell_type": "code",
   "execution_count": 64,
   "metadata": {},
   "outputs": [
    {
     "data": {
      "text/plain": [
       "(90793, 5)"
      ]
     },
     "execution_count": 64,
     "metadata": {},
     "output_type": "execute_result"
    }
   ],
   "source": [
    "data.dropna(inplace=True)\n",
    "data.shape"
   ]
  },
  {
   "cell_type": "code",
   "execution_count": 124,
   "metadata": {},
   "outputs": [],
   "source": [
    "tweets=data.copy()"
   ]
  },
  {
   "cell_type": "code",
   "execution_count": 125,
   "metadata": {},
   "outputs": [],
   "source": [
    "sent = lambda x: 1 if(x>=0) else 0\n",
    "tweets[\"sentiment\"]=tweets.polarity.apply(sent)"
   ]
  },
  {
   "cell_type": "code",
   "execution_count": null,
   "metadata": {},
   "outputs": [],
   "source": []
  },
  {
   "cell_type": "code",
   "execution_count": 126,
   "metadata": {},
   "outputs": [
    {
     "data": {
      "text/plain": [
       "1    61255\n",
       "0    29538\n",
       "Name: sentiment, dtype: int64"
      ]
     },
     "execution_count": 126,
     "metadata": {},
     "output_type": "execute_result"
    }
   ],
   "source": [
    "tweets.sentiment.value_counts()"
   ]
  },
  {
   "cell_type": "code",
   "execution_count": 127,
   "metadata": {},
   "outputs": [
    {
     "data": {
      "text/html": [
       "<div>\n",
       "<style scoped>\n",
       "    .dataframe tbody tr th:only-of-type {\n",
       "        vertical-align: middle;\n",
       "    }\n",
       "\n",
       "    .dataframe tbody tr th {\n",
       "        vertical-align: top;\n",
       "    }\n",
       "\n",
       "    .dataframe thead th {\n",
       "        text-align: right;\n",
       "    }\n",
       "</style>\n",
       "<table border=\"1\" class=\"dataframe\">\n",
       "  <thead>\n",
       "    <tr style=\"text-align: right;\">\n",
       "      <th></th>\n",
       "      <th>Unnamed: 0</th>\n",
       "      <th>tweet</th>\n",
       "      <th>polarity</th>\n",
       "      <th>subjectivity</th>\n",
       "      <th>filtered_sentence</th>\n",
       "      <th>sentiment</th>\n",
       "    </tr>\n",
       "  </thead>\n",
       "  <tbody>\n",
       "    <tr>\n",
       "      <th>42469</th>\n",
       "      <td>42469</td>\n",
       "      <td>how to stay safe on the with increase during c...</td>\n",
       "      <td>0.5</td>\n",
       "      <td>0.5</td>\n",
       "      <td>how to stay safe on the with increase during c...</td>\n",
       "      <td>1</td>\n",
       "    </tr>\n",
       "  </tbody>\n",
       "</table>\n",
       "</div>"
      ],
      "text/plain": [
       "       Unnamed: 0                                              tweet  \\\n",
       "42469       42469  how to stay safe on the with increase during c...   \n",
       "\n",
       "       polarity  subjectivity  \\\n",
       "42469       0.5           0.5   \n",
       "\n",
       "                                       filtered_sentence  sentiment  \n",
       "42469  how to stay safe on the with increase during c...          1  "
      ]
     },
     "execution_count": 127,
     "metadata": {},
     "output_type": "execute_result"
    }
   ],
   "source": [
    "tweets.sample()"
   ]
  },
  {
   "cell_type": "code",
   "execution_count": 131,
   "metadata": {},
   "outputs": [],
   "source": [
    "tweets.drop(tweets.columns[tweets.columns.str.contains('unnamed',case = False)],axis = 1, inplace = True)"
   ]
  },
  {
   "cell_type": "code",
   "execution_count": 132,
   "metadata": {},
   "outputs": [
    {
     "data": {
      "text/html": [
       "<div>\n",
       "<style scoped>\n",
       "    .dataframe tbody tr th:only-of-type {\n",
       "        vertical-align: middle;\n",
       "    }\n",
       "\n",
       "    .dataframe tbody tr th {\n",
       "        vertical-align: top;\n",
       "    }\n",
       "\n",
       "    .dataframe thead th {\n",
       "        text-align: right;\n",
       "    }\n",
       "</style>\n",
       "<table border=\"1\" class=\"dataframe\">\n",
       "  <thead>\n",
       "    <tr style=\"text-align: right;\">\n",
       "      <th></th>\n",
       "      <th>tweet</th>\n",
       "      <th>polarity</th>\n",
       "      <th>subjectivity</th>\n",
       "      <th>filtered_sentence</th>\n",
       "      <th>sentiment</th>\n",
       "    </tr>\n",
       "  </thead>\n",
       "  <tbody>\n",
       "    <tr>\n",
       "      <th>30300</th>\n",
       "      <td>corona update in confirm active remove replace it</td>\n",
       "      <td>-0.133333</td>\n",
       "      <td>0.6</td>\n",
       "      <td>corona update in confirm active remove replace it</td>\n",
       "      <td>0</td>\n",
       "    </tr>\n",
       "  </tbody>\n",
       "</table>\n",
       "</div>"
      ],
      "text/plain": [
       "                                                   tweet  polarity  \\\n",
       "30300  corona update in confirm active remove replace it -0.133333   \n",
       "\n",
       "       subjectivity                                  filtered_sentence  \\\n",
       "30300           0.6  corona update in confirm active remove replace it   \n",
       "\n",
       "       sentiment  \n",
       "30300          0  "
      ]
     },
     "execution_count": 132,
     "metadata": {},
     "output_type": "execute_result"
    }
   ],
   "source": [
    "tweets.sample()"
   ]
  },
  {
   "cell_type": "code",
   "execution_count": 133,
   "metadata": {},
   "outputs": [
    {
     "data": {
      "text/plain": [
       "(30163,)"
      ]
     },
     "execution_count": 133,
     "metadata": {},
     "output_type": "execute_result"
    }
   ],
   "source": [
    "indexNames = tweets[(tweets[\"polarity\"]<= 0.07) & (tweets[\"sentiment\"]== 1)].index\n",
    "indexNames.shape"
   ]
  },
  {
   "cell_type": "code",
   "execution_count": 134,
   "metadata": {},
   "outputs": [
    {
     "data": {
      "text/plain": [
       "30163"
      ]
     },
     "execution_count": 134,
     "metadata": {},
     "output_type": "execute_result"
    }
   ],
   "source": [
    "ind=indexNames.to_list()\n",
    "len(ind)"
   ]
  },
  {
   "cell_type": "code",
   "execution_count": 135,
   "metadata": {},
   "outputs": [
    {
     "data": {
      "text/plain": [
       "(90793, 5)"
      ]
     },
     "execution_count": 135,
     "metadata": {},
     "output_type": "execute_result"
    }
   ],
   "source": [
    "tweets.shape"
   ]
  },
  {
   "cell_type": "code",
   "execution_count": 136,
   "metadata": {},
   "outputs": [],
   "source": [
    "tweets.drop(index=ind,axis=ind,inplace=True)"
   ]
  },
  {
   "cell_type": "code",
   "execution_count": 137,
   "metadata": {},
   "outputs": [
    {
     "data": {
      "text/plain": [
       "(60630, 5)"
      ]
     },
     "execution_count": 137,
     "metadata": {},
     "output_type": "execute_result"
    }
   ],
   "source": [
    "tweets.shape"
   ]
  },
  {
   "cell_type": "code",
   "execution_count": 138,
   "metadata": {},
   "outputs": [
    {
     "data": {
      "text/plain": [
       "1    31092\n",
       "0    29538\n",
       "Name: sentiment, dtype: int64"
      ]
     },
     "execution_count": 138,
     "metadata": {},
     "output_type": "execute_result"
    }
   ],
   "source": [
    "tweets.sentiment.value_counts()"
   ]
  },
  {
   "cell_type": "code",
   "execution_count": null,
   "metadata": {},
   "outputs": [],
   "source": []
  },
  {
   "cell_type": "code",
   "execution_count": 139,
   "metadata": {},
   "outputs": [
    {
     "data": {
      "text/plain": [
       "<matplotlib.axes._subplots.AxesSubplot at 0x1b6c81b61d0>"
      ]
     },
     "execution_count": 139,
     "metadata": {},
     "output_type": "execute_result"
    },
    {
     "data": {
      "image/png": "[encoded data removed]",
      "text/plain": [
       "<Figure size 432x288 with 1 Axes>"
      ]
     },
     "metadata": {
      "needs_background": "light"
     },
     "output_type": "display_data"
    }
   ],
   "source": [
    "sns.barplot(x=[1,0],y=tweets.sentiment.value_counts(),data=tweets)"
   ]
  },
  {
   "cell_type": "code",
   "execution_count": 280,
   "metadata": {},
   "outputs": [],
   "source": []
  },
  {
   "cell_type": "code",
   "execution_count": 140,
   "metadata": {},
   "outputs": [
    {
     "name": "stdout",
     "output_type": "stream",
     "text": [
      "Total words =  1229164\n"
     ]
    }
   ],
   "source": [
    "data_base=tweets.tweet.tolist()\n",
    "total_words=[]                      # All words\n",
    "for i in data_base:\n",
    "    for j in i.split():\n",
    "        j=j.lower()\n",
    "        total_words.append(j)\n",
    "print(\"Total words = \",len(total_words))"
   ]
  },
  {
   "cell_type": "code",
   "execution_count": null,
   "metadata": {},
   "outputs": [],
   "source": []
  },
  {
   "cell_type": "code",
   "execution_count": 141,
   "metadata": {},
   "outputs": [
    {
     "data": {
      "text/plain": [
       "(1229164, 1)"
      ]
     },
     "execution_count": 141,
     "metadata": {},
     "output_type": "execute_result"
    }
   ],
   "source": [
    "w_c=pd.DataFrame(data=total_words,columns=[\"words\"])\n",
    "w_c.shape"
   ]
  },
  {
   "cell_type": "code",
   "execution_count": null,
   "metadata": {},
   "outputs": [],
   "source": []
  },
  {
   "cell_type": "code",
   "execution_count": 142,
   "metadata": {},
   "outputs": [
    {
     "data": {
      "text/plain": [
       "(1220805, 1)"
      ]
     },
     "execution_count": 142,
     "metadata": {},
     "output_type": "execute_result"
    }
   ],
   "source": [
    "w_c_filtered=w_c[w_c[\"words\"].map(w_c[\"words\"].value_counts())>2]\n",
    "w_c_filtered.shape"
   ]
  },
  {
   "cell_type": "code",
   "execution_count": null,
   "metadata": {},
   "outputs": [],
   "source": []
  },
  {
   "cell_type": "code",
   "execution_count": 143,
   "metadata": {},
   "outputs": [
    {
     "data": {
      "text/plain": [
       "(8687, 1)"
      ]
     },
     "execution_count": 143,
     "metadata": {},
     "output_type": "execute_result"
    }
   ],
   "source": [
    "w_c_filtered =pd.DataFrame(data= w_c_filtered[\"words\"].unique() , columns=[\"words\"])\n",
    "w_c_filtered.shape"
   ]
  },
  {
   "cell_type": "code",
   "execution_count": null,
   "metadata": {},
   "outputs": [],
   "source": []
  },
  {
   "cell_type": "code",
   "execution_count": null,
   "metadata": {},
   "outputs": [],
   "source": []
  },
  {
   "cell_type": "code",
   "execution_count": 144,
   "metadata": {},
   "outputs": [],
   "source": [
    "all_words=w_c_filtered.words.tolist()"
   ]
  },
  {
   "cell_type": "code",
   "execution_count": null,
   "metadata": {},
   "outputs": [],
   "source": []
  },
  {
   "cell_type": "code",
   "execution_count": 145,
   "metadata": {},
   "outputs": [],
   "source": [
    "flt_wrds = all_words"
   ]
  },
  {
   "cell_type": "code",
   "execution_count": null,
   "metadata": {},
   "outputs": [],
   "source": []
  },
  {
   "cell_type": "code",
   "execution_count": 146,
   "metadata": {},
   "outputs": [],
   "source": [
    "flt_wrd_set=set(flt_wrds)\n",
    "wrd_chk = lambda x:1 if len((set(x.split()).intersection(flt_wrd_set)))>=1 else None"
   ]
  },
  {
   "cell_type": "code",
   "execution_count": null,
   "metadata": {},
   "outputs": [],
   "source": []
  },
  {
   "cell_type": "code",
   "execution_count": 147,
   "metadata": {},
   "outputs": [],
   "source": [
    "tweets[\"word_chk\"]=tweets.tweet.apply(wrd_chk)"
   ]
  },
  {
   "cell_type": "code",
   "execution_count": 148,
   "metadata": {},
   "outputs": [
    {
     "data": {
      "text/plain": [
       "tweet                0\n",
       "polarity             0\n",
       "subjectivity         0\n",
       "filtered_sentence    0\n",
       "sentiment            0\n",
       "word_chk             0\n",
       "dtype: int64"
      ]
     },
     "execution_count": 148,
     "metadata": {},
     "output_type": "execute_result"
    }
   ],
   "source": [
    "tweets.isnull().sum()"
   ]
  },
  {
   "cell_type": "code",
   "execution_count": 149,
   "metadata": {},
   "outputs": [],
   "source": [
    "tweets.dropna(inplace=True)"
   ]
  },
  {
   "cell_type": "code",
   "execution_count": 150,
   "metadata": {},
   "outputs": [
    {
     "data": {
      "text/plain": [
       "(60630, 6)"
      ]
     },
     "execution_count": 150,
     "metadata": {},
     "output_type": "execute_result"
    }
   ],
   "source": [
    "tweets.shape"
   ]
  },
  {
   "cell_type": "code",
   "execution_count": 322,
   "metadata": {},
   "outputs": [],
   "source": []
  },
  {
   "cell_type": "markdown",
   "metadata": {},
   "source": [
    "## Word count vector represent and model training - - - - - -"
   ]
  },
  {
   "cell_type": "code",
   "execution_count": null,
   "metadata": {},
   "outputs": [],
   "source": []
  },
  {
   "cell_type": "code",
   "execution_count": 151,
   "metadata": {},
   "outputs": [],
   "source": [
    "word_vector=[]\n",
    "for i in tweets.tweet:\n",
    "    i=i.lower()\n",
    "    mat=[i.count(j) for j in flt_wrds]\n",
    "    word_vector.append(mat)"
   ]
  },
  {
   "cell_type": "code",
   "execution_count": null,
   "metadata": {},
   "outputs": [],
   "source": []
  },
  {
   "cell_type": "code",
   "execution_count": 152,
   "metadata": {},
   "outputs": [
    {
     "data": {
      "text/plain": [
       "(60630, 8687)"
      ]
     },
     "execution_count": 152,
     "metadata": {},
     "output_type": "execute_result"
    }
   ],
   "source": [
    "X_count_vect = pd.DataFrame(word_vector,columns=flt_wrds)\n",
    "X_count_vect.shape"
   ]
  },
  {
   "cell_type": "code",
   "execution_count": 153,
   "metadata": {},
   "outputs": [],
   "source": [
    "y=tweets.sentiment"
   ]
  },
  {
   "cell_type": "code",
   "execution_count": null,
   "metadata": {},
   "outputs": [],
   "source": []
  },
  {
   "cell_type": "code",
   "execution_count": null,
   "metadata": {},
   "outputs": [],
   "source": []
  },
  {
   "cell_type": "code",
   "execution_count": null,
   "metadata": {},
   "outputs": [],
   "source": []
  },
  {
   "cell_type": "code",
   "execution_count": 154,
   "metadata": {},
   "outputs": [],
   "source": [
    "X_train,X_test,y_train,y_test=train_test_split(X_count_vect,y,test_size=0.25,random_state=3)"
   ]
  },
  {
   "cell_type": "code",
   "execution_count": null,
   "metadata": {},
   "outputs": [],
   "source": []
  },
  {
   "cell_type": "code",
   "execution_count": 155,
   "metadata": {},
   "outputs": [],
   "source": [
    "def reports(ytrue,predicted):\n",
    "    print(\"Accuracy : {}\".format(metrics.accuracy_score(ytrue,predicted)))\n",
    "    print(\"Precision : {}\".format(metrics.precision_score(ytrue,predicted)))\n",
    "    print(\"Recall : {}\".format(metrics.recall_score(ytrue,predicted)))\n",
    "    print(\"Logloss : {}\".format(metrics.log_loss(ytrue,predicted)))\n",
    "    print(\"F1 Score : {}\".format(metrics.f1_score(ytrue,predicted)))\n",
    "    print(\"AUC : {}\".format(metrics.roc_auc_score(ytrue,predicted)))\n",
    "    print(\"Confusion Matrix : \\n{}\".format(metrics.confusion_matrix(ytrue,predicted)))"
   ]
  },
  {
   "cell_type": "code",
   "execution_count": 156,
   "metadata": {},
   "outputs": [],
   "source": [
    "def all_models_report():\n",
    "    \n",
    "    global X_train\n",
    "    global y_train\n",
    "    global X_test\n",
    "    global y_test\n",
    "    \n",
    "                # Random Forest Model\n",
    "    \n",
    "    \n",
    "    rfst=ensemble.RandomForestClassifier(n_estimators=10)\n",
    "    rfst.fit(X_train,y_train)\n",
    "    rfst_pred =rfst.predict(X_test)\n",
    "    print(\"\\n\\nFor Random Forest\\n\")\n",
    "    reports(y_test,rfst_pred)\n",
    "    \n",
    "    fpr, tpr, thresholds = roc_curve(y_test,rfst_pred)\n",
    "    plt.plot([0, 1], [0, 1], linestyle='--')\n",
    "    plt.plot(fpr, tpr, marker='.')\n",
    "    plt.suptitle('AUC-ROC Curve', fontsize=20)\n",
    "    plt.xlabel('False positive Rate')\n",
    "    plt.ylabel('True Positive Rate')\n",
    "    plt.show()\n",
    "    \n",
    "    \n",
    "    \n",
    "    \n",
    "    \n",
    "                # Decision Tree Model\n",
    "    \n",
    "    dst = tree.DecisionTreeClassifier()\n",
    "    dst.fit(X_train,y_train)\n",
    "    dst_pred = dst.predict(X_test)\n",
    "    print(\"\\n\\nFor Decision Tree\\n\")\n",
    "    reports(y_test,dst_pred)\n",
    "    \n",
    "    fpr, tpr, thresholds = roc_curve(y_test,dst_pred)\n",
    "    plt.plot([0, 1], [0, 1], linestyle='--')\n",
    "    plt.plot(fpr, tpr, marker='.')\n",
    "    plt.suptitle('AUC-ROC Curve', fontsize=20)\n",
    "    plt.xlabel('False positive Rate')\n",
    "    plt.ylabel('True Positive Rate')\n",
    "    plt.show()\n",
    "    \n",
    "    \n",
    "    \n",
    "    \n",
    "                    # Logistic Regression Model\n",
    "    \n",
    "    lgs = linear_model.LogisticRegression()\n",
    "    lgs.fit(X_train,y_train)\n",
    "    lgr_pred=lgs.predict(X_test)\n",
    "    print(\"\\n\\nFor Logistic Regression\\n\")\n",
    "    reports(y_test,lgr_pred)\n",
    "    \n",
    "    fpr, tpr, thresholds = roc_curve(y_test,lgr_pred)\n",
    "    plt.plot([0, 1], [0, 1], linestyle='--')\n",
    "    plt.plot(fpr, tpr, marker='.')\n",
    "    plt.suptitle('AUC-ROC Curve', fontsize=20)\n",
    "    plt.xlabel('False positive Rate')\n",
    "    plt.ylabel('True Positive Rate')\n",
    "    plt.show()\n",
    "    \n",
    "    \n",
    "    \n",
    "    \n",
    "    \n",
    "                # Multinomial Naive Bayes Model\n",
    "    \n",
    "    clf2= MultinomialNB()\n",
    "    clf2.fit(X_train,y_train)\n",
    "    y_pred_mnb=clf2.predict(X_test)\n",
    "    print(\"\\n\\nFor Multinomial Naive Bayes : \\n\")\n",
    "    reports(y_test,y_pred_mnb)\n",
    "    \n",
    "    fpr, tpr, thresholds = roc_curve(y_test,y_pred_mnb)\n",
    "    plt.plot([0, 1], [0, 1], linestyle='--')\n",
    "    plt.plot(fpr, tpr, marker='.')\n",
    "    plt.suptitle('AUC-ROC Curve', fontsize=20)\n",
    "    plt.xlabel('False positive Rate')\n",
    "    plt.ylabel('True Positive Rate')\n",
    "    plt.show()\n",
    "    \n",
    "    \n",
    "      \n",
    "                 #  Support Vector Machine Model\n",
    "    \n",
    "#    svc_clf= SVC()\n",
    "#    svc_clf.fit(X_train,y_train)\n",
    "#    y_pred_gnb=svc_clf.predict(X_test)\n",
    "#    print(\"\\n\\nFor Support Vector Machine Bayes : \\n\")\n",
    "#    reports(y_test,y_pred_gnb)\n",
    "    \n",
    "#    fpr, tpr, thresholds = roc_curve(y_test,y_pred_gnb)\n",
    "#    plt.plot([0, 1], [0, 1], linestyle='--')\n",
    "#    plt.plot(fpr, tpr, marker='.')\n",
    "#    plt.suptitle('AUC-ROC Curve', fontsize=20)\n",
    "#    plt.xlabel('False positive Rate')\n",
    "#    plt.ylabel('True Positive Rate')\n",
    "#    plt.show()"
   ]
  },
  {
   "cell_type": "code",
   "execution_count": null,
   "metadata": {},
   "outputs": [
    {
     "name": "stdout",
     "output_type": "stream",
     "text": [
      "\n",
      "\n",
      "For Random Forest\n",
      "\n",
      "Accuracy : 0.8175880723050535\n",
      "Precision : 0.8198725451944336\n",
      "Recall : 0.8204060385216033\n",
      "Logloss : 6.3003578423518185\n",
      "F1 Score : 0.8201392050998504\n",
      "AUC : 0.8175484835369591\n",
      "Confusion Matrix : \n",
      "[[6089 1385]\n",
      " [1380 6304]]\n"
     ]
    },
    {
     "data": {
      "image/png": "[encoded data removed]",
      "text/plain": [
       "<Figure size 432x288 with 1 Axes>"
      ]
     },
     "metadata": {
      "needs_background": "light"
     },
     "output_type": "display_data"
    },
    {
     "name": "stdout",
     "output_type": "stream",
     "text": [
      "\n",
      "\n",
      "For Decision Tree\n",
      "\n",
      "Accuracy : 0.867528697717377\n",
      "Precision : 0.8724409448818897\n",
      "Recall : 0.8651743883394065\n",
      "Logloss : 4.575447962111282\n",
      "F1 Score : 0.8687924725561944\n",
      "AUC : 0.8675617727086382\n",
      "Confusion Matrix : \n",
      "[[6502  972]\n",
      " [1036 6648]]\n"
     ]
    },
    {
     "data": {
      "image/png": "[encoded data removed]",
      "text/plain": [
       "<Figure size 432x288 with 1 Axes>"
      ]
     },
     "metadata": {
      "needs_background": "light"
     },
     "output_type": "display_data"
    },
    {
     "name": "stderr",
     "output_type": "stream",
     "text": [
      "C:\\ProgramData\\Anaconda3\\lib\\site-packages\\sklearn\\linear_model\\logistic.py:433: FutureWarning: Default solver will be changed to 'lbfgs' in 0.22. Specify a solver to silence this warning.\n",
      "  FutureWarning)\n"
     ]
    },
    {
     "name": "stdout",
     "output_type": "stream",
     "text": [
      "\n",
      "\n",
      "For Logistic Regression\n",
      "\n",
      "Accuracy : 0.9440559440559441\n",
      "Precision : 0.9441268191268192\n",
      "Recall : 0.9456012493492972\n",
      "Logloss : 1.9322619217429249\n",
      "F1 Score : 0.9448634590377113\n",
      "AUC : 0.9440342345221199\n",
      "Confusion Matrix : \n",
      "[[7044  430]\n",
      " [ 418 7266]]\n"
     ]
    },
    {
     "data": {
      "image/png": "[encoded data removed]",
      "text/plain": [
       "<Figure size 432x288 with 1 Axes>"
      ]
     },
     "metadata": {
      "needs_background": "light"
     },
     "output_type": "display_data"
    },
    {
     "name": "stdout",
     "output_type": "stream",
     "text": [
      "\n",
      "\n",
      "For Multinomial Naive Bayes : \n",
      "\n",
      "Accuracy : 0.8264282886924397\n",
      "Precision : 0.8204185161699429\n",
      "Recall : 0.8418792295679334\n",
      "Logloss : 5.9950292205417055\n",
      "F1 Score : 0.8310103410623675\n",
      "AUC : 0.826211223025872\n",
      "Confusion Matrix : \n",
      "[[6058 1416]\n",
      " [1215 6469]]\n"
     ]
    },
    {
     "data": {
      "image/png": "[encoded data removed]",
      "text/plain": [
       "<Figure size 432x288 with 1 Axes>"
      ]
     },
     "metadata": {
      "needs_background": "light"
     },
     "output_type": "display_data"
    },
    {
     "name": "stderr",
     "output_type": "stream",
     "text": [
      "C:\\ProgramData\\Anaconda3\\lib\\site-packages\\sklearn\\svm\\base.py:196: FutureWarning: The default value of gamma will change from 'auto' to 'scale' in version 0.22 to account better for unscaled features. Set gamma explicitly to 'auto' or 'scale' to avoid this warning.\n",
      "  \"avoid this warning.\", FutureWarning)\n"
     ]
    }
   ],
   "source": [
    "all_models_report()\n"
   ]
  },
  {
   "cell_type": "code",
   "execution_count": null,
   "metadata": {},
   "outputs": [],
   "source": []
  },
  {
   "cell_type": "code",
   "execution_count": 43,
   "metadata": {},
   "outputs": [
    {
     "name": "stderr",
     "output_type": "stream",
     "text": [
      "C:\\ProgramData\\Anaconda3\\lib\\site-packages\\sklearn\\linear_model\\logistic.py:758: ConvergenceWarning: lbfgs failed to converge. Increase the number of iterations.\n",
      "  \"of iterations.\", ConvergenceWarning)\n"
     ]
    },
    {
     "name": "stdout",
     "output_type": "stream",
     "text": [
      "\n",
      "\n",
      "For Logistic Regression : Solver - Lbfgs\n",
      "\n",
      "Accuracy : 0.9558962264150943\n",
      "Precision : 0.9509832697387731\n",
      "Recall : 0.9399477806788512\n",
      "Logloss : 1.5233061208098402\n",
      "F1 Score : 0.9454333236066531\n",
      "AUC : 0.9533833876571288\n",
      "Confusion Matrix : \n",
      "[[4866  167]\n",
      " [ 207 3240]]\n"
     ]
    },
    {
     "data": {
      "image/png": "[encoded data removed]",
      "text/plain": [
       "<Figure size 432x288 with 1 Axes>"
      ]
     },
     "metadata": {
      "needs_background": "light"
     },
     "output_type": "display_data"
    }
   ],
   "source": [
    "lgs = linear_model.LogisticRegression(solver=\"lbfgs\")\n",
    "\n",
    "lgs.fit(X_train,y_train)\n",
    "lgr_pred=lgs.predict(X_test)\n",
    "print(\"\\n\\nFor Logistic Regression : Solver - Lbfgs\\n\")\n",
    "reports(y_test,lgr_pred)\n",
    "\n",
    "fpr, tpr, thresholds = roc_curve(y_test,lgr_pred)\n",
    "plt.plot([0, 1], [0, 1], linestyle='--')\n",
    "plt.plot(fpr, tpr, marker='.')\n",
    "plt.suptitle('AUC-ROC Curve', fontsize=20)\n",
    "plt.xlabel('False positive Rate')\n",
    "plt.ylabel('True Positive Rate')\n",
    "plt.show()\n"
   ]
  },
  {
   "cell_type": "code",
   "execution_count": 44,
   "metadata": {},
   "outputs": [
    {
     "name": "stdout",
     "output_type": "stream",
     "text": [
      "\n",
      "\n",
      "For Logistic Regression : Solver - Liblinear\n",
      "\n",
      "Accuracy : 0.9620283018867924\n",
      "Precision : 0.9570049722140976\n",
      "Recall : 0.9492312155497534\n",
      "Logloss : 1.3115098514131467\n",
      "F1 Score : 0.9531022429362075\n",
      "AUC : 0.9600119916413579\n",
      "Confusion Matrix : \n",
      "[[4886  147]\n",
      " [ 175 3272]]\n"
     ]
    },
    {
     "data": {
      "image/png": "[encoded data removed]",
      "text/plain": [
       "<Figure size 432x288 with 1 Axes>"
      ]
     },
     "metadata": {
      "needs_background": "light"
     },
     "output_type": "display_data"
    }
   ],
   "source": [
    "lgs = linear_model.LogisticRegression(solver=\"liblinear\")\n",
    "\n",
    "lgs.fit(X_train,y_train)\n",
    "lgr_pred=lgs.predict(X_test)\n",
    "print(\"\\n\\nFor Logistic Regression : Solver - Liblinear\\n\")\n",
    "reports(y_test,lgr_pred)\n",
    "\n",
    "fpr, tpr, thresholds = roc_curve(y_test,lgr_pred)\n",
    "plt.plot([0, 1], [0, 1], linestyle='--')\n",
    "plt.plot(fpr, tpr, marker='.')\n",
    "plt.suptitle('AUC-ROC Curve', fontsize=20)\n",
    "plt.xlabel('False positive Rate')\n",
    "plt.ylabel('True Positive Rate')\n",
    "plt.show()\n"
   ]
  },
  {
   "cell_type": "code",
   "execution_count": 45,
   "metadata": {},
   "outputs": [
    {
     "name": "stderr",
     "output_type": "stream",
     "text": [
      "C:\\ProgramData\\Anaconda3\\lib\\site-packages\\sklearn\\linear_model\\sag.py:334: ConvergenceWarning: The max_iter was reached which means the coef_ did not converge\n",
      "  \"the coef_ did not converge\", ConvergenceWarning)\n"
     ]
    },
    {
     "name": "stdout",
     "output_type": "stream",
     "text": [
      "\n",
      "\n",
      "For Logistic Regression : Solver - Saga\n",
      "\n",
      "Accuracy : 0.9511792452830189\n",
      "Precision : 0.9443305010254908\n",
      "Recall : 0.9350159559036844\n",
      "Logloss : 1.6862270461090525\n",
      "F1 Score : 0.9396501457725948\n",
      "AUC : 0.9486325557384506\n",
      "Confusion Matrix : \n",
      "[[4843  190]\n",
      " [ 224 3223]]\n"
     ]
    },
    {
     "data": {
      "image/png": "[encoded data removed]",
      "text/plain": [
       "<Figure size 432x288 with 1 Axes>"
      ]
     },
     "metadata": {
      "needs_background": "light"
     },
     "output_type": "display_data"
    }
   ],
   "source": [
    "lgs = linear_model.LogisticRegression(solver=\"saga\",penalty=\"l1\")\n",
    "\n",
    "lgs.fit(X_train,y_train)\n",
    "lgr_pred=lgs.predict(X_test)\n",
    "print(\"\\n\\nFor Logistic Regression : Solver - Saga\\n\")\n",
    "reports(y_test,lgr_pred)\n",
    "\n",
    "fpr, tpr, thresholds = roc_curve(y_test,lgr_pred)\n",
    "plt.plot([0, 1], [0, 1], linestyle='--')\n",
    "plt.plot(fpr, tpr, marker='.')\n",
    "plt.suptitle('AUC-ROC Curve', fontsize=20)\n",
    "plt.xlabel('False positive Rate')\n",
    "plt.ylabel('True Positive Rate')\n",
    "plt.show()"
   ]
  },
  {
   "cell_type": "code",
   "execution_count": 46,
   "metadata": {},
   "outputs": [
    {
     "name": "stdout",
     "output_type": "stream",
     "text": [
      "\n",
      "\n",
      "For Logistic Regression : Solver - Newton-CG\n",
      "\n",
      "Accuracy : 0.9620283018867924\n",
      "Precision : 0.9570049722140976\n",
      "Recall : 0.9492312155497534\n",
      "Logloss : 1.3115098514131467\n",
      "F1 Score : 0.9531022429362075\n",
      "AUC : 0.9600119916413579\n",
      "Confusion Matrix : \n",
      "[[4886  147]\n",
      " [ 175 3272]]\n"
     ]
    },
    {
     "data": {
      "image/png": "[encoded data removed]",
      "text/plain": [
       "<Figure size 432x288 with 1 Axes>"
      ]
     },
     "metadata": {
      "needs_background": "light"
     },
     "output_type": "display_data"
    }
   ],
   "source": [
    "lgs = linear_model.LogisticRegression(solver=\"newton-cg\",penalty=\"l2\")\n",
    "\n",
    "lgs.fit(X_train,y_train)\n",
    "lgr_pred=lgs.predict(X_test)\n",
    "print(\"\\n\\nFor Logistic Regression : Solver - Newton-CG\\n\")\n",
    "reports(y_test,lgr_pred)\n",
    "\n",
    "fpr, tpr, thresholds = roc_curve(y_test,lgr_pred)\n",
    "plt.plot([0, 1], [0, 1], linestyle='--')\n",
    "plt.plot(fpr, tpr, marker='.')\n",
    "plt.suptitle('AUC-ROC Curve', fontsize=20)\n",
    "plt.xlabel('False positive Rate')\n",
    "plt.ylabel('True Positive Rate')\n",
    "plt.show()"
   ]
  },
  {
   "cell_type": "code",
   "execution_count": null,
   "metadata": {},
   "outputs": [],
   "source": []
  },
  {
   "cell_type": "code",
   "execution_count": null,
   "metadata": {},
   "outputs": [],
   "source": []
  },
  {
   "cell_type": "code",
   "execution_count": null,
   "metadata": {},
   "outputs": [],
   "source": []
  },
  {
   "cell_type": "code",
   "execution_count": null,
   "metadata": {},
   "outputs": [],
   "source": []
  },
  {
   "cell_type": "code",
   "execution_count": null,
   "metadata": {},
   "outputs": [],
   "source": []
  },
  {
   "cell_type": "code",
   "execution_count": 49,
   "metadata": {},
   "outputs": [],
   "source": []
  },
  {
   "cell_type": "code",
   "execution_count": 50,
   "metadata": {},
   "outputs": [],
   "source": []
  },
  {
   "cell_type": "code",
   "execution_count": 51,
   "metadata": {},
   "outputs": [],
   "source": []
  },
  {
   "cell_type": "code",
   "execution_count": 47,
   "metadata": {},
   "outputs": [],
   "source": [
    "#HappyEmoticons\n",
    "emoticons_happy = set([\n",
    "    ':-)', ':)', ';)', ':o)', ':]', ':3', ':c)', ':>', '=]', '8)', '=)', ':}',\n",
    "    ':^)', ':-D', ':D', '8-D', '8D', 'x-D', 'xD', 'X-D', 'XD', '=-D', '=D',\n",
    "    '=-3', '=3', ':-))', \":'-)\", \":')\", ':*', ':^*', '>:P', ':-P', ':P', 'X-P',\n",
    "    'x-p', 'xp', 'XP', ':-p', ':p', '=p', ':-b', ':b', '>:)', '>;)', '>:-)',\n",
    "    '<3'\n",
    "    ])\n",
    "\n",
    "\n",
    "\n",
    "# Sad Emoticons\n",
    "emoticons_sad = set([\n",
    "    ':L', ':-/', '>:/', ':S', '>:[', ':@', ':-(', ':[', ':-||', '=L', ':<',\n",
    "    ':-[', ':-<', '=\\\\', '=/', '>:(', ':(', '>.<', \":'-(\", \":'(\", ':\\\\', ':-c',\n",
    "    ':c', ':{', '>:\\\\', ';('\n",
    "    ])\n",
    "\n",
    "\n",
    "emoticons = emoticons_happy.union(emoticons_sad)\n",
    "\n",
    "\n",
    "special_char=re.compile(r'[-%<>.?!,;#:/\\\\()^~`$₹+\\'*&_{}=|0-9]')  # All special characters\n",
    "\n",
    "emoji_pattern = re.compile(\"[\"\n",
    "        u\"\\U0001F600-\\U0001F64F\"  # emoticons\n",
    "        u\"\\U0001F300-\\U0001F5FF\"  # symbols & pictographs\n",
    "        u\"\\U0001F680-\\U0001F6FF\"  # transport & map symbols\n",
    "        u\"\\U0001F1E0-\\U0001F1FF\"  # flags (iOS)\n",
    "        \"\\u200b\"\n",
    "        \"\\n\"\n",
    "        \"❌▶◾✔️➕➖•❤•●⭐🤝✌🤟🤩🤪🤣🤗\"         \"]+\", flags=re.UNICODE)\n",
    "\n",
    "\n",
    "#stop_words = set(stopwords.words('english'))\n",
    "corp=words.words()\n",
    "\n",
    "def get_wordnet_pos(word):\n",
    "    tag = nltk.pos_tag([word])[0][1][0].upper()\n",
    "    tag_dict = {\"J\": wordnet.ADJ,\n",
    "                \"N\": wordnet.NOUN,\n",
    "                \"V\": wordnet.VERB,\n",
    "                \"R\": wordnet.ADV}\n",
    "    return tag_dict.get(tag, wordnet.NOUN)\n",
    "\n",
    "\n",
    "def clean_text(tweet):    \n",
    "    tweet = tweet.lower()\n",
    "    #global stop_words\n",
    "    global emoticons\n",
    "    global emoji_pattern\n",
    "    global special_char\n",
    "    global corp\n",
    "    lemmatizer = WordNetLemmatizer() \n",
    "\n",
    "    #tweet = re.sub('@.*? |#.*? |@.*?: |#.*?: |@.*?:|#.*?:', '', tweet)\n",
    "    tweet = re.sub('@.*? |@.*?:', '', tweet)\n",
    "    tweet = re.sub(r'[^\\x00-\\x7F]+',' ', tweet)\n",
    "    tweet = re.sub(r'https?:\\/\\/.*|http?:\\/\\/.*',\"\",tweet)\n",
    "    tweet =re.sub(\"b\\\"RT|b\\'|b\\\"|b\\'RT|b\\'rt|b\\\"rt|\\\\n|\\\\\\\\n|RT\", '', tweet)\n",
    "    tweet = re.sub(r':', '', tweet)\n",
    "    tweet = re.sub(r'‚Ä¶', '', tweet)\n",
    "    tweet = emoji_pattern.sub(r'', tweet)\n",
    "    tweet = special_char.sub(r\" \",tweet)\n",
    "    \n",
    "    word_tokens = word_tokenize(tweet)\n",
    "\n",
    "    filtered_tweet = []\n",
    "    for w in word_tokens:\n",
    "        if ((w in corp)  and (w not in emoticons) and (w not in string.punctuation)  and (len(w)>1)):\n",
    "            filtered_tweet.append(w)\n",
    "            \n",
    "    \n",
    "    filtered_tweets=[lemmatizer.lemmatize(w, get_wordnet_pos(w)) for w in filtered_tweet]        \n",
    "    filtered_sentence = ' '.join(filtered_tweets)\n",
    "    return filtered_sentence"
   ]
  },
  {
   "cell_type": "code",
   "execution_count": 48,
   "metadata": {},
   "outputs": [],
   "source": [
    "def pred_text(text):\n",
    "    global lgs\n",
    "    global flt_wrds\n",
    "    text = clean_text(text)\n",
    "    i=text.lower()\n",
    "    mat=[i.count(j) for j in flt_wrds]\n",
    "    lgr_pred=lgs.predict([mat])\n",
    "    \n",
    "    \n",
    "    if(lgr_pred==1):\n",
    "        print(\"Logistic Regression Prediction : POSITIVE\")\n",
    "        \n",
    "    else:\n",
    "        print(\"Logistic Regression Prediction : NEGATIVE\")"
   ]
  },
  {
   "cell_type": "code",
   "execution_count": 49,
   "metadata": {},
   "outputs": [
    {
     "name": "stdout",
     "output_type": "stream",
     "text": [
      "Logistic Regression Prediction : POSITIVE\n"
     ]
    }
   ],
   "source": [
    "pred_text(\"Hi i am a good boy.\")"
   ]
  },
  {
   "cell_type": "code",
   "execution_count": 50,
   "metadata": {},
   "outputs": [
    {
     "name": "stdout",
     "output_type": "stream",
     "text": [
      "Logistic Regression Prediction : NEGATIVE\n"
     ]
    }
   ],
   "source": [
    "pred_text(\"Rohit is so dumb\")"
   ]
  },
  {
   "cell_type": "code",
   "execution_count": 51,
   "metadata": {},
   "outputs": [
    {
     "name": "stdout",
     "output_type": "stream",
     "text": [
      "Logistic Regression Prediction : NEGATIVE\n"
     ]
    }
   ],
   "source": [
    "pred_text(\"Pubg lite has poor graphics quality\")"
   ]
  },
  {
   "cell_type": "code",
   "execution_count": 52,
   "metadata": {},
   "outputs": [
    {
     "name": "stdout",
     "output_type": "stream",
     "text": [
      "Logistic Regression Prediction : NEGATIVE\n"
     ]
    }
   ],
   "source": [
    "pred_text(\"This project is very interesting. but very time consuming. code is very long\")"
   ]
  },
  {
   "cell_type": "code",
   "execution_count": 53,
   "metadata": {},
   "outputs": [
    {
     "name": "stdout",
     "output_type": "stream",
     "text": [
      "Logistic Regression Prediction : POSITIVE\n"
     ]
    }
   ],
   "source": [
    "pred_text(\"This project is very interesting.\")"
   ]
  },
  {
   "cell_type": "code",
   "execution_count": 97,
   "metadata": {},
   "outputs": [
    {
     "name": "stdout",
     "output_type": "stream",
     "text": [
      "Logistic Regression Prediction : POSITIVE\n"
     ]
    }
   ],
   "source": [
    "pred_text(\"i hope one day this pandemic situation will be over\")"
   ]
  },
  {
   "cell_type": "code",
   "execution_count": 59,
   "metadata": {},
   "outputs": [
    {
     "name": "stdout",
     "output_type": "stream",
     "text": [
      "Logistic Regression Prediction : NEGATIVE\n"
     ]
    }
   ],
   "source": [
    "pred_text(\"Feeling depressed on this pandemic situation.\")"
   ]
  },
  {
   "cell_type": "code",
   "execution_count": 66,
   "metadata": {},
   "outputs": [
    {
     "name": "stdout",
     "output_type": "stream",
     "text": [
      "Logistic Regression Prediction : POSITIVE\n"
     ]
    }
   ],
   "source": [
    "pred_text(\"in this lockdown period i have learned so many new things\")"
   ]
  },
  {
   "cell_type": "code",
   "execution_count": 85,
   "metadata": {},
   "outputs": [
    {
     "name": "stdout",
     "output_type": "stream",
     "text": [
      "Logistic Regression Prediction : POSITIVE\n"
     ]
    }
   ],
   "source": [
    "pred_text(\"in this quarantine period, our environment is curing.\")"
   ]
  },
  {
   "cell_type": "code",
   "execution_count": 95,
   "metadata": {},
   "outputs": [
    {
     "name": "stdout",
     "output_type": "stream",
     "text": [
      "Logistic Regression Prediction : NEGATIVE\n"
     ]
    }
   ],
   "source": [
    "pred_text(\"i am mentally disturbed during the quarantine\")"
   ]
  },
  {
   "cell_type": "code",
   "execution_count": 99,
   "metadata": {},
   "outputs": [
    {
     "name": "stdout",
     "output_type": "stream",
     "text": [
      "Logistic Regression Prediction : POSITIVE\n"
     ]
    }
   ],
   "source": [
    "pred_text(\"India is fighting the pandemic situation greatly.\")"
   ]
  },
  {
   "cell_type": "code",
   "execution_count": 74,
   "metadata": {},
   "outputs": [
    {
     "name": "stdout",
     "output_type": "stream",
     "text": [
      "Logistic Regression Prediction : POSITIVE\n"
     ]
    }
   ],
   "source": [
    "pred_text(\"Rainy season is best for the plants\")"
   ]
  },
  {
   "cell_type": "code",
   "execution_count": 83,
   "metadata": {},
   "outputs": [
    {
     "name": "stdout",
     "output_type": "stream",
     "text": [
      "Logistic Regression Prediction : POSITIVE\n"
     ]
    }
   ],
   "source": [
    "pred_text(\"The boy is smart\")"
   ]
  },
  {
   "cell_type": "code",
   "execution_count": null,
   "metadata": {},
   "outputs": [],
   "source": []
  }
 ],
 "metadata": {
  "kernelspec": {
   "display_name": "Python 3",
   "language": "python",
   "name": "python3"
  },
  "language_info": {
   "codemirror_mode": {
    "name": "ipython",
    "version": 3
   },
   "file_extension": ".py",
   "mimetype": "text/x-python",
   "name": "python",
   "nbconvert_exporter": "python",
   "pygments_lexer": "ipython3",
   "version": "3.7.3"
  }
 },
 "nbformat": 4,
 "nbformat_minor": 2
}
