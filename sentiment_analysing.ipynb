{
 "cells": [
  {
   "cell_type": "code",
   "execution_count": 1,
   "metadata": {},
   "outputs": [],
   "source": [
    "import numpy as np\n",
    "import pandas as pd\n",
    "import re\n",
    "import matplotlib.pyplot as plt\n",
    "import seaborn as sns\n",
    "\n",
    "from sklearn import model_selection\n",
    "from sklearn.model_selection import train_test_split\n",
    "from sklearn import metrics\n",
    "from sklearn.metrics import accuracy_score,confusion_matrix,precision_score,recall_score\n",
    "from sklearn.metrics import roc_curve\n",
    "from sklearn import ensemble\n",
    "from sklearn import linear_model\n",
    "from sklearn import tree\n",
    "from sklearn import neighbors\n",
    "from sklearn import naive_bayes\n",
    "from sklearn.naive_bayes import GaussianNB\n",
    "from sklearn.naive_bayes import MultinomialNB\n",
    "\n",
    "from sklearn.tree import DecisionTreeClassifier\n",
    "from sklearn.naive_bayes import GaussianNB\n",
    "\n",
    "import string\n",
    "from textblob import TextBlob,Word\n",
    "import nltk\n",
    "\n",
    "\n",
    "from nltk.tokenize import word_tokenize\n",
    "from nltk.corpus import words,wordnet\n",
    "from nltk.stem import WordNetLemmatizer\n",
    "\n",
    "%matplotlib inline"
   ]
  },
  {
   "cell_type": "code",
   "execution_count": 2,
   "metadata": {},
   "outputs": [],
   "source": [
    "d1 = pd.read_csv(\"files/tweet_filtered_strict_ind_bad.csv\")\n",
    "d2 = pd.read_csv(\"files/tweet_filtered_strict_full.csv\")\n",
    "data = pd.concat([d1,d2])"
   ]
  },
  {
   "cell_type": "code",
   "execution_count": 3,
   "metadata": {},
   "outputs": [
    {
     "data": {
      "text/plain": [
       "(96318, 4)"
      ]
     },
     "execution_count": 3,
     "metadata": {},
     "output_type": "execute_result"
    }
   ],
   "source": [
    "data.shape"
   ]
  },
  {
   "cell_type": "code",
   "execution_count": 4,
   "metadata": {},
   "outputs": [
    {
     "data": {
      "text/plain": [
       "Unnamed: 0        0\n",
       "tweet           996\n",
       "polarity          0\n",
       "subjectivity      0\n",
       "dtype: int64"
      ]
     },
     "execution_count": 4,
     "metadata": {},
     "output_type": "execute_result"
    }
   ],
   "source": [
    "data.isnull().sum()"
   ]
  },
  {
   "cell_type": "code",
   "execution_count": 5,
   "metadata": {},
   "outputs": [
    {
     "data": {
      "text/plain": [
       "(95322, 4)"
      ]
     },
     "execution_count": 5,
     "metadata": {},
     "output_type": "execute_result"
    }
   ],
   "source": [
    "data.dropna(inplace=True)\n",
    "data.shape"
   ]
  },
  {
   "cell_type": "code",
   "execution_count": null,
   "metadata": {},
   "outputs": [],
   "source": []
  },
  {
   "cell_type": "markdown",
   "metadata": {},
   "source": [
    " Filter sentences if it has minimum of 5 words\n",
    " \n",
    " \n",
    " "
   ]
  },
  {
   "cell_type": "code",
   "execution_count": 6,
   "metadata": {},
   "outputs": [],
   "source": [
    "data[\"filtered_sentence\"]=data.tweet.apply(lambda x: x if(len(x.split())>2) else None)"
   ]
  },
  {
   "cell_type": "code",
   "execution_count": 7,
   "metadata": {},
   "outputs": [
    {
     "data": {
      "text/plain": [
       "Unnamed: 0              0\n",
       "tweet                   0\n",
       "polarity                0\n",
       "subjectivity            0\n",
       "filtered_sentence    4529\n",
       "dtype: int64"
      ]
     },
     "execution_count": 7,
     "metadata": {},
     "output_type": "execute_result"
    }
   ],
   "source": [
    "data.isnull().sum()"
   ]
  },
  {
   "cell_type": "code",
   "execution_count": 8,
   "metadata": {},
   "outputs": [
    {
     "data": {
      "text/plain": [
       "(90793, 5)"
      ]
     },
     "execution_count": 8,
     "metadata": {},
     "output_type": "execute_result"
    }
   ],
   "source": [
    "data.dropna(inplace=True)\n",
    "data.shape"
   ]
  },
  {
   "cell_type": "code",
   "execution_count": 10,
   "metadata": {},
   "outputs": [],
   "source": [
    "tweets=data"
   ]
  },
  {
   "cell_type": "code",
   "execution_count": null,
   "metadata": {},
   "outputs": [],
   "source": []
  },
  {
   "cell_type": "code",
   "execution_count": null,
   "metadata": {},
   "outputs": [],
   "source": []
  },
  {
   "cell_type": "code",
   "execution_count": null,
   "metadata": {},
   "outputs": [],
   "source": []
  },
  {
   "cell_type": "code",
   "execution_count": 11,
   "metadata": {},
   "outputs": [],
   "source": [
    "sent = lambda x: 1 if(x>=0) else 0\n",
    "tweets[\"sentiment\"]=tweets.polarity.apply(sent)"
   ]
  },
  {
   "cell_type": "code",
   "execution_count": null,
   "metadata": {},
   "outputs": [],
   "source": []
  },
  {
   "cell_type": "code",
   "execution_count": 12,
   "metadata": {},
   "outputs": [
    {
     "data": {
      "text/plain": [
       "(43473,)"
      ]
     },
     "execution_count": 12,
     "metadata": {},
     "output_type": "execute_result"
    }
   ],
   "source": [
    "indexNames = tweets[(tweets[\"polarity\"]<= 0.2) & (tweets[\"polarity\"]>= 0) ].index\n",
    "indexNames.shape"
   ]
  },
  {
   "cell_type": "code",
   "execution_count": 13,
   "metadata": {},
   "outputs": [],
   "source": [
    "tweets.drop(indexNames , inplace=True)"
   ]
  },
  {
   "cell_type": "code",
   "execution_count": 14,
   "metadata": {},
   "outputs": [
    {
     "data": {
      "text/plain": [
       "0    20194\n",
       "1    13990\n",
       "Name: sentiment, dtype: int64"
      ]
     },
     "execution_count": 14,
     "metadata": {},
     "output_type": "execute_result"
    }
   ],
   "source": [
    "tweets.sentiment.value_counts()"
   ]
  },
  {
   "cell_type": "code",
   "execution_count": null,
   "metadata": {},
   "outputs": [],
   "source": []
  },
  {
   "cell_type": "code",
   "execution_count": 15,
   "metadata": {},
   "outputs": [
    {
     "data": {
      "text/plain": [
       "<matplotlib.axes._subplots.AxesSubplot at 0x143fc179940>"
      ]
     },
     "execution_count": 15,
     "metadata": {},
     "output_type": "execute_result"
    },
    {
     "data": {
      "image/png": "[encoded data removed]",
      "text/plain": [
       "<Figure size 432x288 with 1 Axes>"
      ]
     },
     "metadata": {
      "needs_background": "light"
     },
     "output_type": "display_data"
    }
   ],
   "source": [
    "sns.barplot(x=[1,0],y=tweets.sentiment.value_counts(),data=tweets)"
   ]
  },
  {
   "cell_type": "code",
   "execution_count": 280,
   "metadata": {},
   "outputs": [],
   "source": []
  },
  {
   "cell_type": "code",
   "execution_count": 16,
   "metadata": {},
   "outputs": [
    {
     "name": "stdout",
     "output_type": "stream",
     "text": [
      "Total words =  690732\n"
     ]
    }
   ],
   "source": [
    "data_base=tweets.tweet.tolist()\n",
    "total_words=[]                      # All words\n",
    "for i in data_base:\n",
    "    for j in i.split():\n",
    "        j=j.lower()\n",
    "        total_words.append(j)\n",
    "print(\"Total words = \",len(total_words))"
   ]
  },
  {
   "cell_type": "code",
   "execution_count": null,
   "metadata": {},
   "outputs": [],
   "source": []
  },
  {
   "cell_type": "code",
   "execution_count": 17,
   "metadata": {},
   "outputs": [
    {
     "data": {
      "text/plain": [
       "(690732, 1)"
      ]
     },
     "execution_count": 17,
     "metadata": {},
     "output_type": "execute_result"
    }
   ],
   "source": [
    "w_c=pd.DataFrame(data=total_words,columns=[\"words\"])\n",
    "w_c.shape"
   ]
  },
  {
   "cell_type": "code",
   "execution_count": null,
   "metadata": {},
   "outputs": [],
   "source": []
  },
  {
   "cell_type": "code",
   "execution_count": 18,
   "metadata": {},
   "outputs": [
    {
     "data": {
      "text/plain": [
       "(683455, 1)"
      ]
     },
     "execution_count": 18,
     "metadata": {},
     "output_type": "execute_result"
    }
   ],
   "source": [
    "w_c_filtered=w_c[w_c[\"words\"].map(w_c[\"words\"].value_counts())>2]\n",
    "w_c_filtered.shape"
   ]
  },
  {
   "cell_type": "code",
   "execution_count": null,
   "metadata": {},
   "outputs": [],
   "source": []
  },
  {
   "cell_type": "code",
   "execution_count": 19,
   "metadata": {},
   "outputs": [
    {
     "data": {
      "text/plain": [
       "(6738, 1)"
      ]
     },
     "execution_count": 19,
     "metadata": {},
     "output_type": "execute_result"
    }
   ],
   "source": [
    "w_c_filtered =pd.DataFrame(data= w_c_filtered[\"words\"].unique() , columns=[\"words\"])\n",
    "w_c_filtered.shape"
   ]
  },
  {
   "cell_type": "code",
   "execution_count": null,
   "metadata": {},
   "outputs": [],
   "source": []
  },
  {
   "cell_type": "code",
   "execution_count": null,
   "metadata": {},
   "outputs": [],
   "source": []
  },
  {
   "cell_type": "code",
   "execution_count": 20,
   "metadata": {},
   "outputs": [],
   "source": [
    "all_words=w_c_filtered.words.tolist()"
   ]
  },
  {
   "cell_type": "code",
   "execution_count": null,
   "metadata": {},
   "outputs": [],
   "source": []
  },
  {
   "cell_type": "code",
   "execution_count": 21,
   "metadata": {},
   "outputs": [],
   "source": [
    "flt_wrds = all_words"
   ]
  },
  {
   "cell_type": "code",
   "execution_count": null,
   "metadata": {},
   "outputs": [],
   "source": []
  },
  {
   "cell_type": "code",
   "execution_count": 22,
   "metadata": {},
   "outputs": [],
   "source": [
    "flt_wrd_set=set(flt_wrds)\n",
    "wrd_chk = lambda x:1 if len((set(x.split()).intersection(flt_wrd_set)))>=1 else None"
   ]
  },
  {
   "cell_type": "code",
   "execution_count": null,
   "metadata": {},
   "outputs": [],
   "source": []
  },
  {
   "cell_type": "code",
   "execution_count": 23,
   "metadata": {},
   "outputs": [],
   "source": [
    "tweets[\"word_chk\"]=tweets.tweet.apply(wrd_chk)"
   ]
  },
  {
   "cell_type": "code",
   "execution_count": 24,
   "metadata": {},
   "outputs": [
    {
     "data": {
      "text/plain": [
       "Unnamed: 0           0\n",
       "tweet                0\n",
       "polarity             0\n",
       "subjectivity         0\n",
       "filtered_sentence    0\n",
       "sentiment            0\n",
       "word_chk             0\n",
       "dtype: int64"
      ]
     },
     "execution_count": 24,
     "metadata": {},
     "output_type": "execute_result"
    }
   ],
   "source": [
    "tweets.isnull().sum()"
   ]
  },
  {
   "cell_type": "code",
   "execution_count": 25,
   "metadata": {},
   "outputs": [],
   "source": [
    "tweets.dropna(inplace=True)"
   ]
  },
  {
   "cell_type": "code",
   "execution_count": 26,
   "metadata": {},
   "outputs": [
    {
     "data": {
      "text/plain": [
       "(34184, 7)"
      ]
     },
     "execution_count": 26,
     "metadata": {},
     "output_type": "execute_result"
    }
   ],
   "source": [
    "tweets.shape"
   ]
  },
  {
   "cell_type": "code",
   "execution_count": 322,
   "metadata": {},
   "outputs": [],
   "source": []
  },
  {
   "cell_type": "markdown",
   "metadata": {},
   "source": [
    "## Word count vector represent and model training - - - - - -"
   ]
  },
  {
   "cell_type": "code",
   "execution_count": null,
   "metadata": {},
   "outputs": [],
   "source": []
  },
  {
   "cell_type": "code",
   "execution_count": 27,
   "metadata": {},
   "outputs": [],
   "source": [
    "word_vector=[]\n",
    "for i in tweets.tweet:\n",
    "    i=i.lower()\n",
    "    mat=[i.count(j) for j in flt_wrds]\n",
    "    word_vector.append(mat)"
   ]
  },
  {
   "cell_type": "code",
   "execution_count": null,
   "metadata": {},
   "outputs": [],
   "source": []
  },
  {
   "cell_type": "code",
   "execution_count": 28,
   "metadata": {},
   "outputs": [
    {
     "data": {
      "text/plain": [
       "(34184, 6738)"
      ]
     },
     "execution_count": 28,
     "metadata": {},
     "output_type": "execute_result"
    }
   ],
   "source": [
    "X_count_vect = pd.DataFrame(word_vector,columns=flt_wrds)\n",
    "X_count_vect.shape"
   ]
  },
  {
   "cell_type": "code",
   "execution_count": 29,
   "metadata": {},
   "outputs": [],
   "source": [
    "y=tweets.sentiment"
   ]
  },
  {
   "cell_type": "code",
   "execution_count": 30,
   "metadata": {},
   "outputs": [
    {
     "data": {
      "text/plain": [
       "(34184,)"
      ]
     },
     "execution_count": 30,
     "metadata": {},
     "output_type": "execute_result"
    }
   ],
   "source": [
    "y.shape"
   ]
  },
  {
   "cell_type": "code",
   "execution_count": null,
   "metadata": {},
   "outputs": [],
   "source": []
  },
  {
   "cell_type": "code",
   "execution_count": null,
   "metadata": {},
   "outputs": [],
   "source": []
  },
  {
   "cell_type": "code",
   "execution_count": 31,
   "metadata": {},
   "outputs": [],
   "source": [
    "X_train,X_test,y_train,y_test=train_test_split(X_count_vect,y,test_size=0.25,random_state=3)"
   ]
  },
  {
   "cell_type": "code",
   "execution_count": null,
   "metadata": {},
   "outputs": [],
   "source": []
  },
  {
   "cell_type": "code",
   "execution_count": 32,
   "metadata": {},
   "outputs": [],
   "source": [
    "def reports(ytrue,predicted):\n",
    "    print(\"Accuracy : {}\".format(metrics.accuracy_score(ytrue,predicted)))\n",
    "    print(\"Precision : {}\".format(metrics.precision_score(ytrue,predicted)))\n",
    "    print(\"Recall : {}\".format(metrics.recall_score(ytrue,predicted)))\n",
    "    print(\"Logloss : {}\".format(metrics.log_loss(ytrue,predicted)))\n",
    "    print(\"F1 Score : {}\".format(metrics.f1_score(ytrue,predicted)))\n",
    "    print(\"AUC : {}\".format(metrics.roc_auc_score(ytrue,predicted)))\n",
    "    print(\"Confusion Matrix : \\n{}\".format(metrics.confusion_matrix(ytrue,predicted)))"
   ]
  },
  {
   "cell_type": "code",
   "execution_count": 33,
   "metadata": {},
   "outputs": [],
   "source": [
    "def all_models_report():\n",
    "    \n",
    "    global X_train\n",
    "    global y_train\n",
    "    global X_test\n",
    "    global y_test\n",
    "    \n",
    "                # Random Forest Model\n",
    "    \n",
    "    \n",
    "    rfst=ensemble.RandomForestClassifier(n_estimators=10)\n",
    "    rfst.fit(X_train,y_train)\n",
    "    rfst_pred =rfst.predict(X_test)\n",
    "    print(\"\\n\\nFor Random Forest\\n\")\n",
    "    reports(y_test,rfst_pred)\n",
    "    \n",
    "    fpr, tpr, thresholds = roc_curve(y_test,rfst_pred)\n",
    "    plt.plot([0, 1], [0, 1], linestyle='--')\n",
    "    plt.plot(fpr, tpr, marker='.')\n",
    "    plt.suptitle('AUC-ROC Curve', fontsize=20)\n",
    "    plt.xlabel('False positive Rate')\n",
    "    plt.ylabel('True Positive Rate')\n",
    "    plt.show()\n",
    "    \n",
    "    \n",
    "    \n",
    "    \n",
    "    \n",
    "                # Decision Tree Model\n",
    "    \n",
    "    dst = tree.DecisionTreeClassifier()\n",
    "    dst.fit(X_train,y_train)\n",
    "    dst_pred = dst.predict(X_test)\n",
    "    print(\"\\n\\nFor Decision Tree\\n\")\n",
    "    reports(y_test,dst_pred)\n",
    "    \n",
    "    fpr, tpr, thresholds = roc_curve(y_test,dst_pred)\n",
    "    plt.plot([0, 1], [0, 1], linestyle='--')\n",
    "    plt.plot(fpr, tpr, marker='.')\n",
    "    plt.suptitle('AUC-ROC Curve', fontsize=20)\n",
    "    plt.xlabel('False positive Rate')\n",
    "    plt.ylabel('True Positive Rate')\n",
    "    plt.show()\n",
    "    \n",
    "    \n",
    "    \n",
    "    \n",
    "                    # Logistic Regression Model\n",
    "    \n",
    "    lgs = linear_model.LogisticRegression()\n",
    "    lgs.fit(X_train,y_train)\n",
    "    lgr_pred=lgs.predict(X_test)\n",
    "    print(\"\\n\\nFor Logistic Regression\\n\")\n",
    "    reports(y_test,lgr_pred)\n",
    "    \n",
    "    fpr, tpr, thresholds = roc_curve(y_test,lgr_pred)\n",
    "    plt.plot([0, 1], [0, 1], linestyle='--')\n",
    "    plt.plot(fpr, tpr, marker='.')\n",
    "    plt.suptitle('AUC-ROC Curve', fontsize=20)\n",
    "    plt.xlabel('False positive Rate')\n",
    "    plt.ylabel('True Positive Rate')\n",
    "    plt.show()\n",
    "    \n",
    "    \n",
    "    \n",
    "    \n",
    "    \n",
    "                    #  Gaussian Naive Bayes Model\n",
    "    \n",
    "    clf1= GaussianNB()\n",
    "    clf1.fit(X_train,y_train)\n",
    "    y_pred_gnb=clf1.predict(X_test)\n",
    "    print(\"\\n\\nFor Gaussian Naive Bayes : \\n\")\n",
    "    reports(y_test,y_pred_gnb)\n",
    "    \n",
    "    fpr, tpr, thresholds = roc_curve(y_test,y_pred_gnb)\n",
    "    plt.plot([0, 1], [0, 1], linestyle='--')\n",
    "    plt.plot(fpr, tpr, marker='.')\n",
    "    plt.suptitle('AUC-ROC Curve', fontsize=20)\n",
    "    plt.xlabel('False positive Rate')\n",
    "    plt.ylabel('True Positive Rate')\n",
    "    plt.show()\n",
    "    \n",
    "    \n",
    "    \n",
    "    \n",
    "    \n",
    "                # Multinomial Naive Bayes Model\n",
    "    \n",
    "    clf2= MultinomialNB()\n",
    "    clf2.fit(X_train,y_train)\n",
    "    y_pred_mnb=clf2.predict(X_test)\n",
    "    print(\"\\n\\nFor Multinomial Naive Bayes : \\n\")\n",
    "    reports(y_test,y_pred_mnb)\n",
    "    \n",
    "    fpr, tpr, thresholds = roc_curve(y_test,y_pred_mnb)\n",
    "    plt.plot([0, 1], [0, 1], linestyle='--')\n",
    "    plt.plot(fpr, tpr, marker='.')\n",
    "    plt.suptitle('AUC-ROC Curve', fontsize=20)\n",
    "    plt.xlabel('False positive Rate')\n",
    "    plt.ylabel('True Positive Rate')\n",
    "    plt.show()"
   ]
  },
  {
   "cell_type": "code",
   "execution_count": 34,
   "metadata": {},
   "outputs": [
    {
     "name": "stdout",
     "output_type": "stream",
     "text": [
      "\n",
      "\n",
      "For Random Forest\n",
      "\n",
      "Accuracy : 0.8357126140884624\n",
      "Precision : 0.8681397006414825\n",
      "Recall : 0.7020172910662824\n",
      "Logloss : 5.6743199051607505\n",
      "F1 Score : 0.7762906309751434\n",
      "AUC : 0.8145626250445674\n",
      "Confusion Matrix : \n",
      "[[4706  370]\n",
      " [1034 2436]]\n"
     ]
    },
    {
     "data": {
      "image/png": "[encoded data removed]",
      "text/plain": [
       "<Figure size 432x288 with 1 Axes>"
      ]
     },
     "metadata": {
      "needs_background": "light"
     },
     "output_type": "display_data"
    },
    {
     "name": "stdout",
     "output_type": "stream",
     "text": [
      "\n",
      "\n",
      "For Decision Tree\n",
      "\n",
      "Accuracy : 0.9056868710507839\n",
      "Precision : 0.875\n",
      "Recall : 0.8956772334293948\n",
      "Logloss : 3.2575016142706557\n",
      "F1 Score : 0.8852178866419823\n",
      "AUC : 0.904103392128409\n",
      "Confusion Matrix : \n",
      "[[4632  444]\n",
      " [ 362 3108]]\n"
     ]
    },
    {
     "data": {
      "image/png": "[encoded data removed]",
      "text/plain": [
       "<Figure size 432x288 with 1 Axes>"
      ]
     },
     "metadata": {
      "needs_background": "light"
     },
     "output_type": "display_data"
    },
    {
     "name": "stderr",
     "output_type": "stream",
     "text": [
      "C:\\ProgramData\\Anaconda3\\lib\\site-packages\\sklearn\\linear_model\\logistic.py:433: FutureWarning: Default solver will be changed to 'lbfgs' in 0.22. Specify a solver to silence this warning.\n",
      "  FutureWarning)\n"
     ]
    },
    {
     "name": "stdout",
     "output_type": "stream",
     "text": [
      "\n",
      "\n",
      "For Logistic Regression\n",
      "\n",
      "Accuracy : 0.9593962087526328\n",
      "Precision : 0.946525593365742\n",
      "Recall : 0.9538904899135446\n",
      "Logloss : 1.4024227631352049\n",
      "F1 Score : 0.9501937706329839\n",
      "AUC : 0.9585252291963311\n",
      "Confusion Matrix : \n",
      "[[4889  187]\n",
      " [ 160 3310]]\n"
     ]
    },
    {
     "data": {
      "image/png": "[encoded data removed]",
      "text/plain": [
       "<Figure size 432x288 with 1 Axes>"
      ]
     },
     "metadata": {
      "needs_background": "light"
     },
     "output_type": "display_data"
    },
    {
     "name": "stdout",
     "output_type": "stream",
     "text": [
      "\n",
      "\n",
      "For Gaussian Naive Bayes : \n",
      "\n",
      "Accuracy : 0.6029721507137842\n",
      "Precision : 0.5065465056963101\n",
      "Recall : 0.8585014409221902\n",
      "Logloss : 13.71312763160243\n",
      "F1 Score : 0.6371511068334937\n",
      "AUC : 0.6433957165209847\n",
      "Confusion Matrix : \n",
      "[[2174 2902]\n",
      " [ 491 2979]]\n"
     ]
    },
    {
     "data": {
      "image/png": "[encoded data removed]",
      "text/plain": [
       "<Figure size 432x288 with 1 Axes>"
      ]
     },
     "metadata": {
      "needs_background": "light"
     },
     "output_type": "display_data"
    },
    {
     "name": "stdout",
     "output_type": "stream",
     "text": [
      "\n",
      "\n",
      "For Multinomial Naive Bayes : \n",
      "\n",
      "Accuracy : 0.8761993915282004\n",
      "Precision : 0.8445714285714285\n",
      "Recall : 0.8518731988472622\n",
      "Logloss : 4.275972432344669\n",
      "F1 Score : 0.8482065997130559\n",
      "AUC : 0.87235109902962\n",
      "Confusion Matrix : \n",
      "[[4532  544]\n",
      " [ 514 2956]]\n"
     ]
    },
    {
     "data": {
      "image/png": "[encoded data removed]",
      "text/plain": [
       "<Figure size 432x288 with 1 Axes>"
      ]
     },
     "metadata": {
      "needs_background": "light"
     },
     "output_type": "display_data"
    }
   ],
   "source": [
    "all_models_report()\n"
   ]
  },
  {
   "cell_type": "code",
   "execution_count": null,
   "metadata": {},
   "outputs": [],
   "source": []
  },
  {
   "cell_type": "code",
   "execution_count": 43,
   "metadata": {},
   "outputs": [
    {
     "name": "stderr",
     "output_type": "stream",
     "text": [
      "C:\\ProgramData\\Anaconda3\\lib\\site-packages\\sklearn\\linear_model\\logistic.py:758: ConvergenceWarning: lbfgs failed to converge. Increase the number of iterations.\n",
      "  \"of iterations.\", ConvergenceWarning)\n"
     ]
    },
    {
     "name": "stdout",
     "output_type": "stream",
     "text": [
      "\n",
      "\n",
      "For Logistic Regression : Solver - Lbfgs\n",
      "\n",
      "Accuracy : 0.9558962264150943\n",
      "Precision : 0.9509832697387731\n",
      "Recall : 0.9399477806788512\n",
      "Logloss : 1.5233061208098402\n",
      "F1 Score : 0.9454333236066531\n",
      "AUC : 0.9533833876571288\n",
      "Confusion Matrix : \n",
      "[[4866  167]\n",
      " [ 207 3240]]\n"
     ]
    },
    {
     "data": {
      "image/png": "[encoded data removed]",
      "text/plain": [
       "<Figure size 432x288 with 1 Axes>"
      ]
     },
     "metadata": {
      "needs_background": "light"
     },
     "output_type": "display_data"
    }
   ],
   "source": [
    "lgs = linear_model.LogisticRegression(solver=\"lbfgs\")\n",
    "\n",
    "lgs.fit(X_train,y_train)\n",
    "lgr_pred=lgs.predict(X_test)\n",
    "print(\"\\n\\nFor Logistic Regression : Solver - Lbfgs\\n\")\n",
    "reports(y_test,lgr_pred)\n",
    "\n",
    "fpr, tpr, thresholds = roc_curve(y_test,lgr_pred)\n",
    "plt.plot([0, 1], [0, 1], linestyle='--')\n",
    "plt.plot(fpr, tpr, marker='.')\n",
    "plt.suptitle('AUC-ROC Curve', fontsize=20)\n",
    "plt.xlabel('False positive Rate')\n",
    "plt.ylabel('True Positive Rate')\n",
    "plt.show()\n"
   ]
  },
  {
   "cell_type": "code",
   "execution_count": 44,
   "metadata": {},
   "outputs": [
    {
     "name": "stdout",
     "output_type": "stream",
     "text": [
      "\n",
      "\n",
      "For Logistic Regression : Solver - Liblinear\n",
      "\n",
      "Accuracy : 0.9620283018867924\n",
      "Precision : 0.9570049722140976\n",
      "Recall : 0.9492312155497534\n",
      "Logloss : 1.3115098514131467\n",
      "F1 Score : 0.9531022429362075\n",
      "AUC : 0.9600119916413579\n",
      "Confusion Matrix : \n",
      "[[4886  147]\n",
      " [ 175 3272]]\n"
     ]
    },
    {
     "data": {
      "image/png": "[encoded data removed]",
      "text/plain": [
       "<Figure size 432x288 with 1 Axes>"
      ]
     },
     "metadata": {
      "needs_background": "light"
     },
     "output_type": "display_data"
    }
   ],
   "source": [
    "lgs = linear_model.LogisticRegression(solver=\"liblinear\")\n",
    "\n",
    "lgs.fit(X_train,y_train)\n",
    "lgr_pred=lgs.predict(X_test)\n",
    "print(\"\\n\\nFor Logistic Regression : Solver - Liblinear\\n\")\n",
    "reports(y_test,lgr_pred)\n",
    "\n",
    "fpr, tpr, thresholds = roc_curve(y_test,lgr_pred)\n",
    "plt.plot([0, 1], [0, 1], linestyle='--')\n",
    "plt.plot(fpr, tpr, marker='.')\n",
    "plt.suptitle('AUC-ROC Curve', fontsize=20)\n",
    "plt.xlabel('False positive Rate')\n",
    "plt.ylabel('True Positive Rate')\n",
    "plt.show()\n"
   ]
  },
  {
   "cell_type": "code",
   "execution_count": 45,
   "metadata": {},
   "outputs": [
    {
     "name": "stderr",
     "output_type": "stream",
     "text": [
      "C:\\ProgramData\\Anaconda3\\lib\\site-packages\\sklearn\\linear_model\\sag.py:334: ConvergenceWarning: The max_iter was reached which means the coef_ did not converge\n",
      "  \"the coef_ did not converge\", ConvergenceWarning)\n"
     ]
    },
    {
     "name": "stdout",
     "output_type": "stream",
     "text": [
      "\n",
      "\n",
      "For Logistic Regression : Solver - Saga\n",
      "\n",
      "Accuracy : 0.9511792452830189\n",
      "Precision : 0.9443305010254908\n",
      "Recall : 0.9350159559036844\n",
      "Logloss : 1.6862270461090525\n",
      "F1 Score : 0.9396501457725948\n",
      "AUC : 0.9486325557384506\n",
      "Confusion Matrix : \n",
      "[[4843  190]\n",
      " [ 224 3223]]\n"
     ]
    },
    {
     "data": {
      "image/png": "[encoded data removed]",
      "text/plain": [
       "<Figure size 432x288 with 1 Axes>"
      ]
     },
     "metadata": {
      "needs_background": "light"
     },
     "output_type": "display_data"
    }
   ],
   "source": [
    "lgs = linear_model.LogisticRegression(solver=\"saga\",penalty=\"l1\")\n",
    "\n",
    "lgs.fit(X_train,y_train)\n",
    "lgr_pred=lgs.predict(X_test)\n",
    "print(\"\\n\\nFor Logistic Regression : Solver - Saga\\n\")\n",
    "reports(y_test,lgr_pred)\n",
    "\n",
    "fpr, tpr, thresholds = roc_curve(y_test,lgr_pred)\n",
    "plt.plot([0, 1], [0, 1], linestyle='--')\n",
    "plt.plot(fpr, tpr, marker='.')\n",
    "plt.suptitle('AUC-ROC Curve', fontsize=20)\n",
    "plt.xlabel('False positive Rate')\n",
    "plt.ylabel('True Positive Rate')\n",
    "plt.show()"
   ]
  },
  {
   "cell_type": "code",
   "execution_count": 46,
   "metadata": {},
   "outputs": [
    {
     "name": "stdout",
     "output_type": "stream",
     "text": [
      "\n",
      "\n",
      "For Logistic Regression : Solver - Newton-CG\n",
      "\n",
      "Accuracy : 0.9620283018867924\n",
      "Precision : 0.9570049722140976\n",
      "Recall : 0.9492312155497534\n",
      "Logloss : 1.3115098514131467\n",
      "F1 Score : 0.9531022429362075\n",
      "AUC : 0.9600119916413579\n",
      "Confusion Matrix : \n",
      "[[4886  147]\n",
      " [ 175 3272]]\n"
     ]
    },
    {
     "data": {
      "image/png": "[encoded data removed]",
      "text/plain": [
       "<Figure size 432x288 with 1 Axes>"
      ]
     },
     "metadata": {
      "needs_background": "light"
     },
     "output_type": "display_data"
    }
   ],
   "source": [
    "lgs = linear_model.LogisticRegression(solver=\"newton-cg\",penalty=\"l2\")\n",
    "\n",
    "lgs.fit(X_train,y_train)\n",
    "lgr_pred=lgs.predict(X_test)\n",
    "print(\"\\n\\nFor Logistic Regression : Solver - Newton-CG\\n\")\n",
    "reports(y_test,lgr_pred)\n",
    "\n",
    "fpr, tpr, thresholds = roc_curve(y_test,lgr_pred)\n",
    "plt.plot([0, 1], [0, 1], linestyle='--')\n",
    "plt.plot(fpr, tpr, marker='.')\n",
    "plt.suptitle('AUC-ROC Curve', fontsize=20)\n",
    "plt.xlabel('False positive Rate')\n",
    "plt.ylabel('True Positive Rate')\n",
    "plt.show()"
   ]
  },
  {
   "cell_type": "code",
   "execution_count": null,
   "metadata": {},
   "outputs": [],
   "source": []
  },
  {
   "cell_type": "code",
   "execution_count": null,
   "metadata": {},
   "outputs": [],
   "source": []
  },
  {
   "cell_type": "code",
   "execution_count": null,
   "metadata": {},
   "outputs": [],
   "source": []
  },
  {
   "cell_type": "code",
   "execution_count": null,
   "metadata": {},
   "outputs": [],
   "source": []
  },
  {
   "cell_type": "code",
   "execution_count": null,
   "metadata": {},
   "outputs": [],
   "source": []
  },
  {
   "cell_type": "code",
   "execution_count": 49,
   "metadata": {},
   "outputs": [],
   "source": []
  },
  {
   "cell_type": "code",
   "execution_count": 50,
   "metadata": {},
   "outputs": [],
   "source": []
  },
  {
   "cell_type": "code",
   "execution_count": 51,
   "metadata": {},
   "outputs": [],
   "source": []
  },
  {
   "cell_type": "code",
   "execution_count": 47,
   "metadata": {},
   "outputs": [],
   "source": [
    "#HappyEmoticons\n",
    "emoticons_happy = set([\n",
    "    ':-)', ':)', ';)', ':o)', ':]', ':3', ':c)', ':>', '=]', '8)', '=)', ':}',\n",
    "    ':^)', ':-D', ':D', '8-D', '8D', 'x-D', 'xD', 'X-D', 'XD', '=-D', '=D',\n",
    "    '=-3', '=3', ':-))', \":'-)\", \":')\", ':*', ':^*', '>:P', ':-P', ':P', 'X-P',\n",
    "    'x-p', 'xp', 'XP', ':-p', ':p', '=p', ':-b', ':b', '>:)', '>;)', '>:-)',\n",
    "    '<3'\n",
    "    ])\n",
    "\n",
    "\n",
    "\n",
    "# Sad Emoticons\n",
    "emoticons_sad = set([\n",
    "    ':L', ':-/', '>:/', ':S', '>:[', ':@', ':-(', ':[', ':-||', '=L', ':<',\n",
    "    ':-[', ':-<', '=\\\\', '=/', '>:(', ':(', '>.<', \":'-(\", \":'(\", ':\\\\', ':-c',\n",
    "    ':c', ':{', '>:\\\\', ';('\n",
    "    ])\n",
    "\n",
    "\n",
    "emoticons = emoticons_happy.union(emoticons_sad)\n",
    "\n",
    "\n",
    "special_char=re.compile(r'[-%<>.?!,;#:/\\\\()^~`$₹+\\'*&_{}=|0-9]')  # All special characters\n",
    "\n",
    "emoji_pattern = re.compile(\"[\"\n",
    "        u\"\\U0001F600-\\U0001F64F\"  # emoticons\n",
    "        u\"\\U0001F300-\\U0001F5FF\"  # symbols & pictographs\n",
    "        u\"\\U0001F680-\\U0001F6FF\"  # transport & map symbols\n",
    "        u\"\\U0001F1E0-\\U0001F1FF\"  # flags (iOS)\n",
    "        \"\\u200b\"\n",
    "        \"\\n\"\n",
    "        \"❌▶◾✔️➕➖•❤•●⭐🤝✌🤟🤩🤪🤣🤗\"         \"]+\", flags=re.UNICODE)\n",
    "\n",
    "\n",
    "#stop_words = set(stopwords.words('english'))\n",
    "corp=words.words()\n",
    "\n",
    "def get_wordnet_pos(word):\n",
    "    tag = nltk.pos_tag([word])[0][1][0].upper()\n",
    "    tag_dict = {\"J\": wordnet.ADJ,\n",
    "                \"N\": wordnet.NOUN,\n",
    "                \"V\": wordnet.VERB,\n",
    "                \"R\": wordnet.ADV}\n",
    "    return tag_dict.get(tag, wordnet.NOUN)\n",
    "\n",
    "\n",
    "def clean_text(tweet):    \n",
    "    tweet = tweet.lower()\n",
    "    #global stop_words\n",
    "    global emoticons\n",
    "    global emoji_pattern\n",
    "    global special_char\n",
    "    global corp\n",
    "    lemmatizer = WordNetLemmatizer() \n",
    "\n",
    "    #tweet = re.sub('@.*? |#.*? |@.*?: |#.*?: |@.*?:|#.*?:', '', tweet)\n",
    "    tweet = re.sub('@.*? |@.*?:', '', tweet)\n",
    "    tweet = re.sub(r'[^\\x00-\\x7F]+',' ', tweet)\n",
    "    tweet = re.sub(r'https?:\\/\\/.*|http?:\\/\\/.*',\"\",tweet)\n",
    "    tweet =re.sub(\"b\\\"RT|b\\'|b\\\"|b\\'RT|b\\'rt|b\\\"rt|\\\\n|\\\\\\\\n|RT\", '', tweet)\n",
    "    tweet = re.sub(r':', '', tweet)\n",
    "    tweet = re.sub(r'‚Ä¶', '', tweet)\n",
    "    tweet = emoji_pattern.sub(r'', tweet)\n",
    "    tweet = special_char.sub(r\" \",tweet)\n",
    "    \n",
    "    word_tokens = word_tokenize(tweet)\n",
    "\n",
    "    filtered_tweet = []\n",
    "    for w in word_tokens:\n",
    "        if ((w in corp)  and (w not in emoticons) and (w not in string.punctuation)  and (len(w)>1)):\n",
    "            filtered_tweet.append(w)\n",
    "            \n",
    "    \n",
    "    filtered_tweets=[lemmatizer.lemmatize(w, get_wordnet_pos(w)) for w in filtered_tweet]        \n",
    "    filtered_sentence = ' '.join(filtered_tweets)\n",
    "    return filtered_sentence"
   ]
  },
  {
   "cell_type": "code",
   "execution_count": 48,
   "metadata": {},
   "outputs": [],
   "source": [
    "def pred_text(text):\n",
    "    global lgs\n",
    "    global flt_wrds\n",
    "    text = clean_text(text)\n",
    "    i=text.lower()\n",
    "    mat=[i.count(j) for j in flt_wrds]\n",
    "    lgr_pred=lgs.predict([mat])\n",
    "    \n",
    "    \n",
    "    if(lgr_pred==1):\n",
    "        print(\"Logistic Regression Prediction : POSITIVE\")\n",
    "        \n",
    "    else:\n",
    "        print(\"Logistic Regression Prediction : NEGATIVE\")"
   ]
  },
  {
   "cell_type": "code",
   "execution_count": 49,
   "metadata": {},
   "outputs": [
    {
     "name": "stdout",
     "output_type": "stream",
     "text": [
      "Logistic Regression Prediction : POSITIVE\n"
     ]
    }
   ],
   "source": [
    "pred_text(\"Hi i am a good boy.\")"
   ]
  },
  {
   "cell_type": "code",
   "execution_count": 50,
   "metadata": {},
   "outputs": [
    {
     "name": "stdout",
     "output_type": "stream",
     "text": [
      "Logistic Regression Prediction : NEGATIVE\n"
     ]
    }
   ],
   "source": [
    "pred_text(\"Rohit is so dumb\")"
   ]
  },
  {
   "cell_type": "code",
   "execution_count": 51,
   "metadata": {},
   "outputs": [
    {
     "name": "stdout",
     "output_type": "stream",
     "text": [
      "Logistic Regression Prediction : NEGATIVE\n"
     ]
    }
   ],
   "source": [
    "pred_text(\"Pubg lite has poor graphics quality\")"
   ]
  },
  {
   "cell_type": "code",
   "execution_count": 52,
   "metadata": {},
   "outputs": [
    {
     "name": "stdout",
     "output_type": "stream",
     "text": [
      "Logistic Regression Prediction : NEGATIVE\n"
     ]
    }
   ],
   "source": [
    "pred_text(\"This project is very interesting. but very time consuming. code is very long\")"
   ]
  },
  {
   "cell_type": "code",
   "execution_count": 53,
   "metadata": {},
   "outputs": [
    {
     "name": "stdout",
     "output_type": "stream",
     "text": [
      "Logistic Regression Prediction : POSITIVE\n"
     ]
    }
   ],
   "source": [
    "pred_text(\"This project is very interesting.\")"
   ]
  },
  {
   "cell_type": "code",
   "execution_count": 97,
   "metadata": {},
   "outputs": [
    {
     "name": "stdout",
     "output_type": "stream",
     "text": [
      "Logistic Regression Prediction : POSITIVE\n"
     ]
    }
   ],
   "source": [
    "pred_text(\"i hope one day this pandemic situation will be over\")"
   ]
  },
  {
   "cell_type": "code",
   "execution_count": 59,
   "metadata": {},
   "outputs": [
    {
     "name": "stdout",
     "output_type": "stream",
     "text": [
      "Logistic Regression Prediction : NEGATIVE\n"
     ]
    }
   ],
   "source": [
    "pred_text(\"Feeling depressed on this pandemic situation.\")"
   ]
  },
  {
   "cell_type": "code",
   "execution_count": 66,
   "metadata": {},
   "outputs": [
    {
     "name": "stdout",
     "output_type": "stream",
     "text": [
      "Logistic Regression Prediction : POSITIVE\n"
     ]
    }
   ],
   "source": [
    "pred_text(\"in this lockdown period i have learned so many new things\")"
   ]
  },
  {
   "cell_type": "code",
   "execution_count": 85,
   "metadata": {},
   "outputs": [
    {
     "name": "stdout",
     "output_type": "stream",
     "text": [
      "Logistic Regression Prediction : POSITIVE\n"
     ]
    }
   ],
   "source": [
    "pred_text(\"in this quarantine period, our environment is curing.\")"
   ]
  },
  {
   "cell_type": "code",
   "execution_count": 95,
   "metadata": {},
   "outputs": [
    {
     "name": "stdout",
     "output_type": "stream",
     "text": [
      "Logistic Regression Prediction : NEGATIVE\n"
     ]
    }
   ],
   "source": [
    "pred_text(\"i am mentally disturbed during the quarantine\")"
   ]
  },
  {
   "cell_type": "code",
   "execution_count": 99,
   "metadata": {},
   "outputs": [
    {
     "name": "stdout",
     "output_type": "stream",
     "text": [
      "Logistic Regression Prediction : POSITIVE\n"
     ]
    }
   ],
   "source": [
    "pred_text(\"India is fighting the pandemic situation greatly.\")"
   ]
  },
  {
   "cell_type": "code",
   "execution_count": 102,
   "metadata": {},
   "outputs": [
    {
     "name": "stdout",
     "output_type": "stream",
     "text": [
      "Logistic Regression Prediction : NEGATIVE\n"
     ]
    }
   ],
   "source": [
    "pred_text(\"Our central government has failed to handle the pandemic situation.\")"
   ]
  },
  {
   "cell_type": "code",
   "execution_count": 74,
   "metadata": {},
   "outputs": [
    {
     "name": "stdout",
     "output_type": "stream",
     "text": [
      "Logistic Regression Prediction : POSITIVE\n"
     ]
    }
   ],
   "source": [
    "pred_text(\"Rainy season is best for the plants\")"
   ]
  },
  {
   "cell_type": "code",
   "execution_count": 83,
   "metadata": {},
   "outputs": [
    {
     "name": "stdout",
     "output_type": "stream",
     "text": [
      "Logistic Regression Prediction : POSITIVE\n"
     ]
    }
   ],
   "source": [
    "pred_text(\"The boy is smart\")"
   ]
  },
  {
   "cell_type": "code",
   "execution_count": null,
   "metadata": {},
   "outputs": [],
   "source": []
  }
 ],
 "metadata": {
  "kernelspec": {
   "display_name": "Python 3",
   "language": "python",
   "name": "python3"
  },
  "language_info": {
   "codemirror_mode": {
    "name": "ipython",
    "version": 3
   },
   "file_extension": ".py",
   "mimetype": "text/x-python",
   "name": "python",
   "nbconvert_exporter": "python",
   "pygments_lexer": "ipython3",
   "version": "3.7.3"
  }
 },
 "nbformat": 4,
 "nbformat_minor": 2
}
